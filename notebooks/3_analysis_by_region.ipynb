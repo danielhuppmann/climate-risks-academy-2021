{
 "cells": [
  {
   "cell_type": "markdown",
   "metadata": {},
   "source": [
    "# 3. Analysis by region"
   ]
  },
  {
   "cell_type": "code",
   "execution_count": null,
   "metadata": {},
   "outputs": [],
   "source": [
    "import pyam\n",
    "import matplotlib.pyplot as plt"
   ]
  },
  {
   "cell_type": "code",
   "execution_count": null,
   "metadata": {},
   "outputs": [],
   "source": [
    "df = pyam.IamDataFrame(\"data/ngfs_data_analysis.xlsx\")"
   ]
  },
  {
   "cell_type": "markdown",
   "metadata": {},
   "source": [
    "### Downselect to all regions except global (i.e., R5 region mapping)"
   ]
  },
  {
   "cell_type": "code",
   "execution_count": null,
   "metadata": {},
   "outputs": [],
   "source": [
    "df_remind = df.filter(model=\"REMIND-MAgPIE 2.1-4.2\").filter(region=\"World\", keep=False)"
   ]
  },
  {
   "cell_type": "code",
   "execution_count": null,
   "metadata": {},
   "outputs": [],
   "source": [
    "scenarios = [\n",
    "    \"Current Policies \",\n",
    "    \"Net Zero 2050\",\n",
    "    \"Divergent Net Zero\",\n",
    "]\n",
    "\n",
    "df_remind.filter(scenario=scenarios, inplace=True)"
   ]
  },
  {
   "cell_type": "code",
   "execution_count": null,
   "metadata": {},
   "outputs": [],
   "source": [
    "variables = [\n",
    "    \"Primary Energy|Biomass\",\n",
    "    \"Primary Energy|Oil\",\n",
    "    \"Primary Energy|Coal\",\n",
    "    \"Primary Energy|Gas\",\n",
    "    \"Primary Energy|Nuclear\",\n",
    "    \"Primary Energy|Non-Biomass Renewables\",\n",
    "]"
   ]
  },
  {
   "cell_type": "code",
   "execution_count": null,
   "metadata": {},
   "outputs": [],
   "source": [
    "fig, ax = plt.subplots(len(df_remind.scenario), len(df_remind.region),\n",
    "                       figsize=(10, 5), sharex=True, sharey=True)\n",
    "\n",
    "for i, s in enumerate(df_remind.scenario):\n",
    "    for j, r in enumerate(df_remind.region):\n",
    "        _df = df_remind.filter(region=r, scenario=s, variable=variables)\\\n",
    "            .plot.bar(ax=ax[i][j], stacked=True, legend=False)\n",
    "        if i == 0:\n",
    "            ax[0][j].set_title(f\"{r}\")\n",
    "        else:\n",
    "            ax[i][j].set_title(None)            \n",
    "    \n",
    "    ax[i][0].set_ylabel(s)"
   ]
  },
  {
   "cell_type": "code",
   "execution_count": null,
   "metadata": {},
   "outputs": [],
   "source": []
  }
 ],
 "metadata": {
  "kernelspec": {
   "display_name": "Python 3",
   "language": "python",
   "name": "python3"
  },
  "language_info": {
   "codemirror_mode": {
    "name": "ipython",
    "version": 3
   },
   "file_extension": ".py",
   "mimetype": "text/x-python",
   "name": "python",
   "nbconvert_exporter": "python",
   "pygments_lexer": "ipython3",
   "version": "3.8.3"
  }
 },
 "nbformat": 4,
 "nbformat_minor": 4
}
