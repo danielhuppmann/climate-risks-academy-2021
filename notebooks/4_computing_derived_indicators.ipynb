{
 "cells": [
  {
   "cell_type": "markdown",
   "metadata": {},
   "source": [
    "# 4. Computing derived indicators"
   ]
  },
  {
   "cell_type": "code",
   "execution_count": null,
   "metadata": {},
   "outputs": [],
   "source": [
    "import pyam"
   ]
  },
  {
   "cell_type": "code",
   "execution_count": null,
   "metadata": {},
   "outputs": [],
   "source": [
    "df = pyam.IamDataFrame(\"data/ngfs_data_analysis.xlsx\")"
   ]
  },
  {
   "cell_type": "markdown",
   "metadata": {},
   "source": [
    "## Downselect to one model, global timeseries data, and variables of interest"
   ]
  },
  {
   "cell_type": "code",
   "execution_count": null,
   "metadata": {},
   "outputs": [],
   "source": [
    "df_remind = df.filter(model=\"REMIND-MAgPIE 2.1-4.2\", region=\"World\")"
   ]
  },
  {
   "cell_type": "code",
   "execution_count": null,
   "metadata": {},
   "outputs": [],
   "source": [
    "scenarios = [\n",
    "    \"Current Policies \",\n",
    "    \"Net Zero 2050\",\n",
    "    \"Divergent Net Zero\",\n",
    "]\n",
    "\n",
    "df_remind.filter(scenario=scenarios, inplace=True)"
   ]
  },
  {
   "cell_type": "code",
   "execution_count": null,
   "metadata": {},
   "outputs": [],
   "source": [
    "variables = [\n",
    "    \"Primary Energy|Biomass\",\n",
    "    \"Primary Energy|Oil\",\n",
    "    \"Primary Energy|Coal\",\n",
    "    \"Primary Energy|Gas\",\n",
    "    \"Primary Energy|Nuclear\",\n",
    "    \"Primary Energy|Non-Biomass Renewables\",\n",
    "]\n",
    "\n",
    "df_remind.filter(variable=variables, inplace=True)"
   ]
  },
  {
   "cell_type": "markdown",
   "metadata": {},
   "source": [
    "## Compute ratio of energy source between different scenarios"
   ]
  },
  {
   "cell_type": "code",
   "execution_count": null,
   "metadata": {},
   "outputs": [],
   "source": [
    "nz2050 = df_remind.divide(\"Net Zero 2050\", \"Current Policies \", \"diff\", axis=\"scenario\", ignore_units=\"\")"
   ]
  },
  {
   "cell_type": "code",
   "execution_count": null,
   "metadata": {},
   "outputs": [],
   "source": [
    "nz2050.plot(legend=dict(loc=\"outside bottom\"))"
   ]
  },
  {
   "cell_type": "code",
   "execution_count": null,
   "metadata": {},
   "outputs": [],
   "source": []
  }
 ],
 "metadata": {
  "kernelspec": {
   "display_name": "Python 3",
   "language": "python",
   "name": "python3"
  },
  "language_info": {
   "codemirror_mode": {
    "name": "ipython",
    "version": 3
   },
   "file_extension": ".py",
   "mimetype": "text/x-python",
   "name": "python",
   "nbconvert_exporter": "python",
   "pygments_lexer": "ipython3",
   "version": "3.8.3"
  }
 },
 "nbformat": 4,
 "nbformat_minor": 4
}
