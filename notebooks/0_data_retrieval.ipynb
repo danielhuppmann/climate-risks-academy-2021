{
 "cells": [
  {
   "cell_type": "markdown",
   "metadata": {},
   "source": [
    "# 0. Retrieve data from the NGFS Scenario Explorer\n",
    "\n",
    "There are two options to retrieve data from the NGFS scenario ensemble (Phase 2):\n",
    "\n",
    "1. By downloading the data from the Downloads section of the web user interface, or\n",
    "2. By using the pyam module to query the NGFS database directly via a public API\n",
    "\n",
    "This notebook implements option 2 and saves the data as `ngfs_data_raw.csv` in the `data` folder."
   ]
  },
  {
   "cell_type": "code",
   "execution_count": null,
   "metadata": {},
   "outputs": [],
   "source": [
    "import pyam"
   ]
  },
  {
   "cell_type": "markdown",
   "metadata": {},
   "source": [
    "## Investigate the scenario ensemble structure available in the NGFS Scenario Explorer"
   ]
  },
  {
   "cell_type": "code",
   "execution_count": null,
   "metadata": {},
   "outputs": [],
   "source": [
    "ngfs_db = pyam.iiasa.Connection(\"ngfs\")"
   ]
  },
  {
   "cell_type": "code",
   "execution_count": null,
   "metadata": {},
   "outputs": [],
   "source": [
    "ngfs_db.regions()"
   ]
  },
  {
   "cell_type": "code",
   "execution_count": null,
   "metadata": {},
   "outputs": [],
   "source": [
    "ngfs_db.variables()"
   ]
  },
  {
   "cell_type": "markdown",
   "metadata": {},
   "source": [
    "## Downselect to a few variables and regions of interest\n",
    "\n",
    "For this assignment, it is sufficient to use only a few regions (R5) and selected variables."
   ]
  },
  {
   "cell_type": "code",
   "execution_count": null,
   "metadata": {},
   "outputs": [],
   "source": [
    "regions = [\n",
    "    'World',\n",
    "    'OECD90 and EU (and EU candidate) countries',\n",
    "    'Countries from the Reforming Ecomonies of the Former Soviet Union',\n",
    "    'Asian countries except Japan',\n",
    "    'Countries of the Middle East and Africa',\n",
    "    'Latin American countries',\n",
    "]"
   ]
  },
  {
   "cell_type": "code",
   "execution_count": null,
   "metadata": {},
   "outputs": [],
   "source": [
    "variables = [\n",
    "    'Price|Carbon',\n",
    "    'GDP|PPP',\n",
    "    'Population',\n",
    "    'Primary Energy|*',\n",
    "    'Secondary Energy|*',\n",
    "    'Final Energy*',\n",
    "    'Emissions|CO2',\n",
    "    'Emissions|CO2|AFOLU',\n",
    "    'Emissions|CO2|Energy and Industrial Processes',\n",
    "    'Diagnostics|Temperature|Global Mean|MAGICC6|Expected value',\n",
    "]"
   ]
  },
  {
   "cell_type": "markdown",
   "metadata": {},
   "source": [
    "### Option 1: Retrieve from public database \n",
    "\n",
    "<div class=\"alert alert-warning\">\n",
    "\n",
    "This may take a while depending on your Internet speed.\n",
    "\n",
    "</div>"
   ]
  },
  {
   "cell_type": "code",
   "execution_count": null,
   "metadata": {},
   "outputs": [],
   "source": [
    "df = ngfs_db.query(regions=regions, variables=variables)\n",
    "df"
   ]
  },
  {
   "cell_type": "markdown",
   "metadata": {},
   "source": [
    "### Option 2: Download via the web user interface"
   ]
  },
  {
   "cell_type": "code",
   "execution_count": null,
   "metadata": {},
   "outputs": [],
   "source": [
    "df_raw = pyam.IamDataFrame(\"data/NGFS Scenario Data IAM outputs V2.1.csv\")"
   ]
  },
  {
   "cell_type": "code",
   "execution_count": null,
   "metadata": {},
   "outputs": [],
   "source": [
    "df = df_raw.filter(region=[\"World\", \"R5*\"], variable=variables)\n",
    "df"
   ]
  },
  {
   "cell_type": "markdown",
   "metadata": {},
   "source": [
    "## Export retrieved data to file"
   ]
  },
  {
   "cell_type": "code",
   "execution_count": null,
   "metadata": {},
   "outputs": [],
   "source": [
    "df.to_csv(\"data/ngfs_data_snapshot.csv\")"
   ]
  },
  {
   "cell_type": "code",
   "execution_count": null,
   "metadata": {},
   "outputs": [],
   "source": []
  }
 ],
 "metadata": {
  "kernelspec": {
   "display_name": "Python 3",
   "language": "python",
   "name": "python3"
  },
  "language_info": {
   "codemirror_mode": {
    "name": "ipython",
    "version": 3
   },
   "file_extension": ".py",
   "mimetype": "text/x-python",
   "name": "python",
   "nbconvert_exporter": "python",
   "pygments_lexer": "ipython3",
   "version": "3.8.3"
  }
 },
 "nbformat": 4,
 "nbformat_minor": 4
}
